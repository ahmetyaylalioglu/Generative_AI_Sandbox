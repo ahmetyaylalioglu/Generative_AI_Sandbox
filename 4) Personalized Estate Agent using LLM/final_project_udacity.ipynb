{
 "cells": [
  {
   "cell_type": "code",
   "execution_count": 25,
   "metadata": {
    "collapsed": true,
    "ExecuteTime": {
     "end_time": "2024-05-30T09:51:00.049829600Z",
     "start_time": "2024-05-30T09:51:00.039829900Z"
    }
   },
   "outputs": [],
   "source": [
    "from openai import OpenAI\n",
    "from langchain.vectorstores import Chroma\n",
    "from langchain_openai import OpenAIEmbeddings\n",
    "my_api_key = \"your_openai_api_key_here\""
   ]
  },
  {
   "cell_type": "code",
   "execution_count": 24,
   "outputs": [],
   "source": [
    "#Prompt Template to Create Realistic Estate Listing\n",
    "prompt_template = \"\"\"\n",
    "You are a professional estate agent. You need to find a random neighborhood/district in the USA and then fill out the template below.\n",
    "\n",
    "Template:\n",
    "Neighborhood: {neighborhood}\n",
    "Price: {price}\n",
    "Bedrooms: {bedroom_count}\n",
    "Bathrooms: {bathroom_count}\n",
    "House Size: {sqft_size}\n",
    "Description: {estate_description}\n",
    "Neighborhood Description: {neighborhood_description}\n",
    "\n",
    "Please ensure each example is unique and realistic.\n",
    "\"\"\""
   ],
   "metadata": {
    "collapsed": false,
    "ExecuteTime": {
     "end_time": "2024-05-30T09:50:51.613549Z",
     "start_time": "2024-05-30T09:50:51.578504100Z"
    }
   }
  },
  {
   "cell_type": "code",
   "execution_count": 26,
   "outputs": [],
   "source": [
    "#Estate List Generating Function, I increased temperature because I need more varied examples\n",
    "def generate_estate_list(my_key):\n",
    "    client = OpenAI(api_key = my_key,)\n",
    "    completion = client.chat.completions.create(\n",
    "    model = \"gpt-4-turbo\",\n",
    "    temperature=0.7,\n",
    "    max_tokens=2048,\n",
    "    messages = [\n",
    "        {\"role\": \"system\", \"content\": prompt_template},\n",
    "    ]\n",
    "    )\n",
    "    return completion.choices[0].message.content.strip()"
   ],
   "metadata": {
    "collapsed": false,
    "ExecuteTime": {
     "end_time": "2024-05-30T09:52:03.841133400Z",
     "start_time": "2024-05-30T09:52:03.819133600Z"
    }
   }
  },
  {
   "cell_type": "code",
   "execution_count": 27,
   "outputs": [],
   "source": [
    "estate_list = []\n",
    "# Generating 40 examples\n",
    "example_estate_count = 40\n",
    "for _ in range(example_estate_count):\n",
    "    estate_details = generate_estate_list(my_key=my_api_key)\n",
    "    estate_list.append(estate_details)"
   ],
   "metadata": {
    "collapsed": false,
    "ExecuteTime": {
     "end_time": "2024-05-30T09:58:53.313731600Z",
     "start_time": "2024-05-30T09:52:12.808527200Z"
    }
   }
  },
  {
   "cell_type": "code",
   "execution_count": 53,
   "outputs": [
    {
     "name": "stdout",
     "output_type": "stream",
     "text": [
      "1 ) Neighborhood: Laurelhurst\n",
      "Price: $1,200,000\n",
      "Bedrooms: 4\n",
      "Bathrooms: 3\n",
      "House Size: 3,200 sqft\n",
      "Description: This stunning two-story home, located in the prestigious Laurelhurst neighborhood, features an open-concept kitchen with stainless steel appliances, granite countertops, and a large island perfect for entertaining. The living room boasts a beautiful fireplace and ample natural light. The master suite includes a spacious walk-in closet and a luxurious en-suite bathroom with a soaking tub and separate shower. Hardwood flooring throughout the house adds elegance and warmth.\n",
      "Neighborhood Description: Laurelhurst is one of the most sought-after neighborhoods in Seattle, known for its beautiful waterfront parks, top-rated schools, and tight-knit community. The area offers a peaceful residential setting with easy access to downtown Seattle, making it perfect for families and professionals alike. The neighborhood also features a private beach club, tennis courts, and beautifully maintained walking trails.\n",
      "2 ) Neighborhood: Lakeview\n",
      "Price: $850,000\n",
      "Bedrooms: 4\n",
      "Bathrooms: 3\n",
      "House Size: 2,800 sqft\n",
      "Description: This charming and spacious four-bedroom home features a modern kitchen with stainless steel appliances, granite countertops, and a large island. The open-plan living area is perfect for entertaining, with hardwood floors and a fireplace. The master suite includes a walk-in closet and a luxurious bathroom with a soaking tub and separate shower. The property also includes a beautifully landscaped backyard with a deck and a two-car garage.\n",
      "Neighborhood Description: Lakeview is a vibrant and family-friendly neighborhood located on the north side of Chicago, known for its excellent public schools and beautiful parks. It offers a variety of dining and shopping options, with local boutiques and eateries along its bustling streets. The area is also famous for its cultural attractions, including theaters and art galleries, and is well-connected to the rest of the city via public transportation.\n",
      "3 ) Neighborhood: Westchase\n",
      "Price: $450,000\n",
      "Bedrooms: 4\n",
      "Bathrooms: 3\n",
      "House Size: 2,500 sqft\n",
      "Description: This inviting single-family home features a spacious open floor plan that seamlessly connects the living room to the kitchen, ideal for entertaining. The modern kitchen boasts stainless steel appliances, granite countertops, and ample cabinet space. The master suite includes a large walk-in closet and a luxurious en-suite bathroom with dual sinks and a soaking tub. The property also includes a landscaped backyard with a patio area for outdoor dining.\n",
      "Neighborhood Description: Westchase is a vibrant and family-friendly neighborhood located in Tampa, Florida. Known for its well-maintained homes and community-oriented atmosphere, Westchase offers a variety of amenities including parks, golf courses, and walking trails. The area boasts excellent schools and is conveniently located with easy access to shopping centers, restaurants, and entertainment options. Westchase provides a balanced suburban lifestyle with all the conveniences of city living.\n",
      "4 ) Neighborhood: Hyde Park\n",
      "Price: $850,000\n",
      "Bedrooms: 4\n",
      "Bathrooms: 3\n",
      "House Size: 2,800 sqft\n",
      "Description: This elegant Victorian-style home, built in the late 19th century, features modern amenities while preserving its historical charm. The house boasts a renovated kitchen with high-end appliances, a spacious living room with an original fireplace, and a master suite that includes a walk-in closet and a luxurious bathroom. Hardwood floors and high ceilings throughout enhance the home's grandeur.\n",
      "Neighborhood Description: Hyde Park, located in the southern part of Chicago, is known for its rich history and vibrant cultural scene. The neighborhood is home to the prestigious University of Chicago and the Museum of Science and Industry. It offers a diverse range of dining and shopping options, and is well-connected by public transportation. The area is also renowned for its significant architectural landmarks and peaceful parks.\n",
      "5 ) Neighborhood: Eastmoreland\n",
      "Price: $950,000\n",
      "Bedrooms: 4\n",
      "Bathrooms: 3\n",
      "House Size: 3,200 sqft\n",
      "Description: This charming and beautifully maintained Tudor-style home is located in the heart of Eastmoreland. Featuring original hardwood floors, a modern kitchen with high-end appliances, and a spacious master suite with a walk-in closet and a luxurious bathroom. The property includes a beautifully landscaped garden and a detached two-car garage.\n",
      "Neighborhood Description: Eastmoreland is a picturesque and historic neighborhood in Portland, Oregon, known for its tree-lined streets and expansive green spaces. The community is family-friendly with a strong sense of local pride, offering several parks, a golf course, and easy access to excellent schools. The area is also well-known for its beautiful old homes, making it a desirable location for those appreciating both charm and community.\n",
      "6 ) Neighborhood: Linden Hills\n",
      "Price: $875,000\n",
      "Bedrooms: 4\n",
      "Bathrooms: 3\n",
      "House Size: 2,400 sqft\n",
      "Description: This charming two-story home in sought-after Linden Hills features a blend of classic architecture and modern finishes. The main floor boasts an open concept kitchen with stainless steel appliances and granite countertops, a cozy living room with a fireplace, and a formal dining area. Hardwood floors throughout lead up to the second floor where the spacious master suite includes a walk-in closet and a luxurious bathroom with a soaking tub and separate shower. A beautifully landscaped backyard and a detached two-car garage complete this stunning property.\n",
      "Neighborhood Description: Linden Hills is a picturesque neighborhood located between Lake Harriet and Lake Calhoun in Minneapolis. Known for its quaint shopping districts and well-maintained homes, this area offers a peaceful residential vibe while still being close to downtown. The neighborhood features excellent schools, plenty of parks, and easy access to recreational activities like biking and sailing. The close-knit community often gathers for local events and festivals, making Linden Hills a desirable place for families and professionals alike.\n",
      "7 ) Neighborhood: Lakeview\n",
      "Price: $875,000\n",
      "Bedrooms: 4\n",
      "Bathrooms: 3\n",
      "House Size: 2,800 sqft\n",
      "Description: This stunning Lakeview home features a modern open floor plan, sleek hardwood floors, and a chef's kitchen with stainless steel appliances and granite countertops. The spacious master suite offers a luxurious bath and a walk-in closet. The property includes a beautifully landscaped backyard with a deck perfect for entertaining.\n",
      "Neighborhood Description: Lakeview is a vibrant neighborhood known for its friendly community and beautiful scenery. It boasts a variety of local shops, cafes, and restaurants. The area offers excellent schools and plenty of parks, making it ideal for families. With its close proximity to the city center and public transport options, Lakeview combines convenience with a peaceful, suburban feel.\n",
      "8 ) Neighborhood: Nob Hill\n",
      "Price: $1,450,000\n",
      "Bedrooms: 3\n",
      "Bathrooms: 2\n",
      "House Size: 2,100 sqft\n",
      "Description: This charming and recently renovated Victorian home features high ceilings, a modern kitchen with stainless steel appliances, a spacious living room with a fireplace, and hardwood flooring throughout. The master suite includes a walk-in closet and a luxurious bathroom with a freestanding tub and separate shower.\n",
      "Neighborhood Description: Nob Hill is one of San Francisco's signature neighborhoods, renowned for its city landmarks and the luxury hotels that border Huntington Park. For those who explore it on foot, it is a central neighborhood, steeped in the city's history but heavily influenced by the cosmopolitan present. Known for its affluent residents, upscale shopping, and spectacular city views, Nob Hill is a highly desirable area to live in. It's also conveniently located near downtown, making it a popular choice for urban professionals.\n",
      "9 ) Neighborhood: Wicker Park, Chicago\n",
      "Price: $950,000\n",
      "Bedrooms: 4\n",
      "Bathrooms: 3.5\n",
      "House Size: 3,200 sqft\n",
      "Description: This stunning single-family home features a modern open floor plan, high-end finishes, and a chef's kitchen complete with stainless steel appliances and a large island. The spacious master suite boasts a luxurious en-suite bathroom and walk-in closet. Hardwood floors throughout and a rooftop deck provide the perfect spaces for entertaining.\n",
      "Neighborhood Description: Wicker Park is a vibrant, artistic neighborhood known for its lively music scene, eclectic mix of restaurants, and boutique shopping. With its blend of historic architecture and modern amenities, it is a popular destination for young professionals and families alike. The area is well-connected by public transportation and has a strong sense of community, making it one of Chicago's most desirable neighborhoods.\n",
      "10 ) Neighborhood: Hyde Park\n",
      "Price: $750,000\n",
      "Bedrooms: 4\n",
      "Bathrooms: 3\n",
      "House Size: 2,800 sqft\n",
      "Description: This elegant and spacious home in the historic Hyde Park district boasts a newly renovated kitchen with stainless steel appliances and granite countertops, a large living room with a fireplace, and a master suite with a walk-in closet and luxurious bathroom. Hardwood floors throughout and a charming backyard with a patio perfect for entertaining.\n",
      "Neighborhood Description: Hyde Park is a well-established neighborhood known for its rich history and tight-knit community. It features tree-lined streets, beautiful parks, and a variety of local shops and restaurants. Conveniently located near downtown, it offers easy access to cultural institutions and bustling city life, while maintaining a quiet, residential feel.\n"
     ]
    }
   ],
   "source": [
    "for i,element in enumerate(estate_list[:10]):\n",
    "    print(i+1,\")\", element)"
   ],
   "metadata": {
    "collapsed": false,
    "ExecuteTime": {
     "end_time": "2024-05-30T10:06:33.761495500Z",
     "start_time": "2024-05-30T10:06:33.738487500Z"
    }
   }
  },
  {
   "cell_type": "code",
   "execution_count": 28,
   "outputs": [],
   "source": [
    "# Create Embedding Objects, I choose OpenAI embeddings\n",
    "embedder = OpenAIEmbeddings(openai_api_key=my_api_key)"
   ],
   "metadata": {
    "collapsed": false,
    "ExecuteTime": {
     "end_time": "2024-05-30T09:58:54.034142600Z",
     "start_time": "2024-05-30T09:58:53.315732400Z"
    }
   }
  },
  {
   "cell_type": "code",
   "execution_count": 29,
   "outputs": [],
   "source": [
    "#Creating Chroma Vector Database using LLM-base generated estate list and OpenAI Embeddings\n",
    "db = Chroma.from_texts(estate_list,embedder)"
   ],
   "metadata": {
    "collapsed": false,
    "ExecuteTime": {
     "end_time": "2024-05-30T09:58:55.524575700Z",
     "start_time": "2024-05-30T09:58:54.034142600Z"
    }
   }
  },
  {
   "cell_type": "code",
   "execution_count": 30,
   "outputs": [],
   "source": [
    "# Parsing Function (Using LLM) to extract and format user input according to specific template\n",
    "def query_parser(my_key, user_input_text):\n",
    "    # Define the prompt template with placeholders for dynamic content\n",
    "    answer_prompt_template = f\"\"\"\n",
    "        Extract and summarize the key information from the user's query about real estate. Focus on identifying and extracting specific details such as the neighborhood,price, number of bedrooms, number of bathrooms, and the size of the house in square feet.\n",
    "\n",
    "        User Query: \"{user_input_text}\"\n",
    "\n",
    "        Example:\n",
    "        User Query: \"I'm looking for a 3-bedroom, 2-bathroom house in the Brooklyn area. It should be under $800,000 and have at least 1500 square feet of space.\"\n",
    "\n",
    "        Please provide a summarized version of the query along with the structured details in the following format:\n",
    "\n",
    "        \"Summarized Query: Looking for a house in Brooklyn with 3 bedrooms, 2 bathrooms, priced under $800,000, and at least 1500 sq ft.\"\n",
    "\n",
    "        Neighborhood: Brooklyn\n",
    "        Price: under $800,000\n",
    "        Bedrooms: 3\n",
    "        Bathrooms: 2\n",
    "        House Size: at least 1500 sqft\"\n",
    "    \"\"\"\n",
    "\n",
    "    # Initialize the OpenAI client with the provided API key\n",
    "    client = OpenAI(api_key=my_key)\n",
    "\n",
    "    # Create a completion request to the OpenAI API with the formatted prompt\n",
    "    completion = client.chat.completions.create(\n",
    "        model=\"gpt-4-turbo\",\n",
    "        temperature=0.7,\n",
    "        max_tokens=1024,\n",
    "        messages=[\n",
    "            {\"role\": \"system\", \"content\": answer_prompt_template},\n",
    "        ]\n",
    "    )\n",
    "    # Return the formatted answer\n",
    "    return completion.choices[0].message.content.strip()"
   ],
   "metadata": {
    "collapsed": false,
    "ExecuteTime": {
     "end_time": "2024-05-30T09:58:55.541186500Z",
     "start_time": "2024-05-30T09:58:55.526689200Z"
    }
   }
  },
  {
   "cell_type": "code",
   "execution_count": 41,
   "outputs": [
    {
     "name": "stdout",
     "output_type": "stream",
     "text": [
      "Summarized Query: Looking for a house with at least 1 bedroom, 2 bathrooms, priced under $10,000,000, and at least 500 sq ft, flexible with neighborhood; needs 10 suggestions, each from different neighborhoods.\n",
      "\n",
      "Neighborhood: Flexible\n",
      "Price: under $10,000,000\n",
      "Bedrooms: at least 1\n",
      "Bathrooms: 2\n",
      "House Size: at least 500 sqft\n"
     ]
    }
   ],
   "source": [
    "# Example user input text - plain text\n",
    "user_input = \"I'm looking for a at least 1-bedroom, 2-bathroom house. I am flexible for neighborhood option. It should be under $10000,000 and have at least 500 square feet of space. I need 10 suggestions and all suggestions should be include different neighborhood.\"\n",
    "query = query_parser(my_key=my_api_key, user_input_text=user_input)\n",
    "print(query)"
   ],
   "metadata": {
    "collapsed": false,
    "ExecuteTime": {
     "end_time": "2024-05-30T10:01:46.576689900Z",
     "start_time": "2024-05-30T10:01:41.820774400Z"
    }
   }
  },
  {
   "cell_type": "code",
   "execution_count": null,
   "outputs": [],
   "source": [
    "user_input = \"Enter your query here\""
   ],
   "metadata": {
    "collapsed": false
   }
  },
  {
   "cell_type": "code",
   "execution_count": 43,
   "outputs": [
    {
     "data": {
      "text/plain": "'Neighborhood: Hyde Park\\nPrice: $450,000\\nBedrooms: 3\\nBathrooms: 2\\nHouse Size: 2,100 sqft\\nDescription: This charming single-family home in the heart of Hyde Park features a spacious open floor plan, hardwood floors, and a modern kitchen equipped with stainless steel appliances and granite countertops. The master suite offers a large walk-in closet and en-suite bathroom. A beautifully landscaped backyard includes a patio area perfect for outdoor dining and entertaining.\\nNeighborhood Description: Hyde Park is known for its rich history and vibrant community atmosphere. It boasts an array of local shops, cafes, and parks. The neighborhood is also home to several top-rated schools and has easy access to downtown via public transportation, making it an ideal location for families and professionals alike.'"
     },
     "execution_count": 43,
     "metadata": {},
     "output_type": "execute_result"
    }
   ],
   "source": [
    "# TOP 10 Result from Vector Database\n",
    "similar_docs = db.similarity_search(query, k=10)\n",
    "#Example result from Vector Database\n",
    "similar_docs[6].page_content"
   ],
   "metadata": {
    "collapsed": false,
    "ExecuteTime": {
     "end_time": "2024-05-30T10:01:56.474727200Z",
     "start_time": "2024-05-30T10:01:56.011255400Z"
    }
   }
  },
  {
   "cell_type": "code",
   "execution_count": 44,
   "outputs": [],
   "source": [
    "# Funtion for formatting final answer in a generative way by including estate information that created by another LLM in the previous cells. We create final answer to present buyer in a natural estate agent language\n",
    "def generate_estate_answers(my_key, user_query, top1_answer, top2_answer, top3_answer, top4_answer, top5_answer,top6_answer,top7_answer,top8_answer,top9_answer,top10_answer):\n",
    "    # Define the prompt template with placeholders for dynamic content\n",
    "    answer_prompt_template = f\"\"\"\n",
    "    You are a professional estate agent. The list you given you should explain every item in the list with a fancy way to sell estate to buyer. Augment and beautify your answer with {user_query} and\n",
    "     1) {top1_answer}\n",
    "     2) {top2_answer}\n",
    "     3) {top3_answer}\n",
    "     4) {top4_answer}\n",
    "     5) {top5_answer}\n",
    "     6) {top6_answer}\n",
    "     7) {top7_answer}\n",
    "     8) {top8_answer}\n",
    "     9) {top9_answer}\n",
    "     10) {top10_answer}\n",
    "\n",
    "    Please ensure each answer is realistic.\n",
    "    \"\"\"\n",
    "\n",
    "    # Initialize the OpenAI client with the provided API key\n",
    "    client = OpenAI(api_key=my_key)\n",
    "\n",
    "    # Create a completion request to the OpenAI API with the formatted prompt\n",
    "    completion = client.chat.completions.create(\n",
    "        model=\"gpt-4-turbo\",\n",
    "        temperature=0.7,\n",
    "        max_tokens=2048,\n",
    "        messages=[\n",
    "            {\"role\": \"system\", \"content\": answer_prompt_template},\n",
    "        ]\n",
    "    )\n",
    "\n",
    "    # Return the formatted answer\n",
    "    return completion.choices[0].message.content.strip()"
   ],
   "metadata": {
    "collapsed": false,
    "ExecuteTime": {
     "end_time": "2024-05-30T10:01:59.170423700Z",
     "start_time": "2024-05-30T10:01:59.158423700Z"
    }
   }
  },
  {
   "cell_type": "code",
   "execution_count": 45,
   "outputs": [],
   "source": [
    "#getting top-10 content and store in the array\n",
    "top_10_estate = []\n",
    "for i in range(len(similar_docs)):\n",
    "    top_10_estate.append(similar_docs[i].page_content)"
   ],
   "metadata": {
    "collapsed": false,
    "ExecuteTime": {
     "end_time": "2024-05-30T10:01:59.904423900Z",
     "start_time": "2024-05-30T10:01:59.896422Z"
    }
   }
  },
  {
   "cell_type": "code",
   "execution_count": 46,
   "outputs": [],
   "source": [
    "# Generating final answer\n",
    "result_text = generate_estate_answers(my_api_key,query,top_10_estate[0],top_10_estate[1],top_10_estate[2],top_10_estate[3],top_10_estate[4],top_10_estate[5],top_10_estate[6],top_10_estate[7],top_10_estate[8],top_10_estate[9])"
   ],
   "metadata": {
    "collapsed": false,
    "ExecuteTime": {
     "end_time": "2024-05-30T10:02:56.643089300Z",
     "start_time": "2024-05-30T10:02:00.864420Z"
    }
   }
  },
  {
   "cell_type": "code",
   "execution_count": 47,
   "outputs": [
    {
     "name": "stdout",
     "output_type": "stream",
     "text": [
      "Certainly! Here are ten beautifully curated homes from different neighborhoods tailored to your preferences:\n",
      "\n",
      "1) **Park Slope, Brooklyn, NY**\n",
      "   - **Price:** $1,200,000\n",
      "   - **Bedrooms:** 3\n",
      "   - **Bathrooms:** 2\n",
      "   - **House Size:** 1,800 sqft\n",
      "   - **Description:** Step into this charming brownstone townhouse, boasting original architectural details, a modern kitchen, and an enchanting backyard garden.\n",
      "   - **Neighborhood Description:** Park Slope offers a warm, family-friendly environment with tree-lined streets, trendy boutiques, and close proximity to the lush expanses of Prospect Park.\n",
      "\n",
      "2) **Pacific Heights, San Francisco, CA**\n",
      "   - **Price:** $3,500,000\n",
      "   - **Bedrooms:** 4\n",
      "   - **Bathrooms:** 3.5\n",
      "   - **House Size:** 2,500 sqft\n",
      "   - **Description:** Experience elegance in this Victorian home featuring panoramic views of the Golden Gate Bridge, a gourmet kitchen, and expansive living areas perfect for entertaining.\n",
      "   - **Neighborhood Description:** Pacific Heights, known for its grand mansions and historic architecture, offers upscale living with stunning bay views and chic shopping districts.\n",
      "\n",
      "3) **South Beach, Miami, FL**\n",
      "   - **Price:** $900,000\n",
      "   - **Bedrooms:** 2\n",
      "   - **Bathrooms:** 2.5\n",
      "   - **House Size:** 1,200 sqft\n",
      "   - **Description:** Luxurious waterfront condo with sleek modern finishes, a private balcony, and access to resort-style amenities in the heart of a vibrant community.\n",
      "   - **Neighborhood Description:** South Beach is celebrated for its stunning beaches, Art Deco architecture, and dynamic nightlife, making it a top destination for entertainment and relaxation.\n",
      "\n",
      "4) **Old Fourth Ward, Atlanta, GA**\n",
      "   - **Price:** $650,000\n",
      "   - **Bedrooms:** 2\n",
      "   - **Bathrooms:** 2.5\n",
      "   - **House Size:** 1,600 sqft\n",
      "   - **Description:** Modern loft-style condo with soaring ceilings, industrial design elements, and a rooftop terrace that offers breathtaking views of the Atlanta skyline.\n",
      "   - **Neighborhood Description:** A blend of historic charm and modern revival, Old Fourth Ward is alive with trendy eateries, art scenes, and the famous BeltLine trail.\n",
      "\n",
      "5) **Brooklyn Heights, Brooklyn, NY**\n",
      "   - **Price:** $2,500,000\n",
      "   - **Bedrooms:** 4\n",
      "   - **Bathrooms:** 3\n",
      "   - **House Size:** 2,500 sqft\n",
      "   - **Description:** Majestic brownstone with a blend of original charm and modern amenities, featuring a private oasis in the backyard.\n",
      "   - **Neighborhood Description:** Brooklyn Heights promises a serene living experience with its historic homes, stunning Manhattan views, and proximity to the waterfront Brooklyn Bridge Park.\n",
      "\n",
      "6) **Capitol Hill, Seattle, WA**\n",
      "   - **Price:** $950,000\n",
      "   - **Bedrooms:** 3\n",
      "   - **Bathrooms:** 2.5\n",
      "   - **House Size:** 2,000 sqft\n",
      "   - **Description:** Craftsman-style home seamlessly combining classic architecture with contemporary updates, nestled in a lively neighborhood.\n",
      "   - **Neighborhood Description:** Known for its eclectic vibe, Capitol Hill is a cultural hotspot with a diverse array of shops, cafes, and music venues, coupled with beautiful parklands.\n",
      "\n",
      "7) **Hyde Park**\n",
      "   - **Price:** $450,000\n",
      "   - **Bedrooms:** 3\n",
      "   - **Bathrooms:** 2\n",
      "   - **House Size:** 2,100 sqft\n",
      "   - **Description:** Cozy single-family home with open floor plan, modern finishes, and a serene backyard, ideal for both relaxation and entertainment.\n",
      "   - **Neighborhood Description:** Hyde Park, rich in history and community spirit, features quaint shops, lush parks, and is known for its excellent educational institutions.\n",
      "\n",
      "8) **Highland Park, Los Angeles, CA**\n",
      "   - **Price:** $1,200,000\n",
      "   - **Bedrooms:** 4\n",
      "   - **Bathrooms:** 3\n",
      "   - **House Size:** 2,500 sqft\n",
      "   - **Description:** Stunning craftsman-style residence offering a perfect blend of old-world charm and modern luxury, with a chef's kitchen and a lush backyard.\n",
      "   - **Neighborhood Description:** Highland Park, a hub for creativity and culture, is known for its vibrant street art, unique eateries, and bustling galleries.\n",
      "\n",
      "9) **Parkside Estates**\n",
      "   - **Price:** $450,000\n",
      "   - **Bedrooms:** 4\n",
      "   - **Bathrooms:** 3\n",
      "   - **House Size:** 2,500 sqft\n",
      "   - **Description:** Spacious and inviting home with a contemporary kitchen, large living areas, and a backyard ideal for hosting gatherings.\n",
      "   - **Neighborhood Description:** Parkside Estates is a tranquil, family-oriented community with excellent schools, beautiful parks, and convenient access to shopping and dining.\n",
      "\n",
      "10) **Brooklyn Heights, Brooklyn, NY** (Additional Option)\n",
      "    - **Price:** $1,200,000\n",
      "    - **Bedrooms:** 3\n",
      "    - **Bathrooms:** 2\n",
      "    - **House Size:** 1,800 sqft\n",
      "    - **Description:** Elegantly updated brownstone featuring a spacious interior, renovated kitchen, and a quaint backyard garden.\n",
      "    - **Neighborhood Description:** A historic neighborhood with easy access to Manhattan, Brooklyn Heights offers a peaceful, residential atmosphere with all the perks of city living.\n",
      "\n",
      "These homes have been meticulously selected to provide you with luxurious living options across some of the most desirable neighborhoods. Each offers unique features and an opportunity to enjoy both the comfort of home and the excitement of the city.\n"
     ]
    }
   ],
   "source": [
    "# Display final answer\n",
    "print(result_text)"
   ],
   "metadata": {
    "collapsed": false,
    "ExecuteTime": {
     "end_time": "2024-05-30T10:02:56.654089500Z",
     "start_time": "2024-05-30T10:02:56.639090800Z"
    }
   }
  },
  {
   "cell_type": "code",
   "execution_count": null,
   "outputs": [],
   "source": [],
   "metadata": {
    "collapsed": false
   }
  }
 ],
 "metadata": {
  "kernelspec": {
   "display_name": "Python 3",
   "language": "python",
   "name": "python3"
  },
  "language_info": {
   "codemirror_mode": {
    "name": "ipython",
    "version": 2
   },
   "file_extension": ".py",
   "mimetype": "text/x-python",
   "name": "python",
   "nbconvert_exporter": "python",
   "pygments_lexer": "ipython2",
   "version": "2.7.6"
  }
 },
 "nbformat": 4,
 "nbformat_minor": 0
}
