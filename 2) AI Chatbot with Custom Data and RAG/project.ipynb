{
 "cells": [
  {
   "cell_type": "markdown",
   "id": "124e5672",
   "metadata": {},
   "source": [
    "# Custom Chatbot Project"
   ]
  },
  {
   "cell_type": "markdown",
   "id": "2a4a94b3",
   "metadata": {},
   "source": [
    "I choose 2023 Fashion Trends Dataset. Because with this dataset we can create usefull application using large language models to suggest colors and type of dresses to people. Most of the people confuse when they create a style. This type of application would be useful"
   ]
  },
  {
   "cell_type": "markdown",
   "id": "a63d4c5f",
   "metadata": {},
   "source": [
    "## Data Wrangling\n",
    "\n",
    "TODO: In the cells below, load your chosen dataset into a `pandas` dataframe with a column named `\"text\"`. This column should contain all of your text data, separated into at least 20 rows."
   ]
  },
  {
   "cell_type": "code",
   "execution_count": 1,
   "id": "c69b83a1",
   "metadata": {},
   "outputs": [],
   "source": [
    "import pandas as pd"
   ]
  },
  {
   "cell_type": "code",
   "execution_count": 2,
   "id": "0a595980",
   "metadata": {},
   "outputs": [],
   "source": [
    "data_df = pd.read_csv(\"./data/2023_fashion_trends.csv\")"
   ]
  },
  {
   "cell_type": "code",
   "execution_count": 9,
   "id": "acb3a9fd",
   "metadata": {},
   "outputs": [
    {
     "data": {
      "text/html": [
       "<div>\n",
       "<style scoped>\n",
       "    .dataframe tbody tr th:only-of-type {\n",
       "        vertical-align: middle;\n",
       "    }\n",
       "\n",
       "    .dataframe tbody tr th {\n",
       "        vertical-align: top;\n",
       "    }\n",
       "\n",
       "    .dataframe thead th {\n",
       "        text-align: right;\n",
       "    }\n",
       "</style>\n",
       "<table border=\"1\" class=\"dataframe\">\n",
       "  <thead>\n",
       "    <tr style=\"text-align: right;\">\n",
       "      <th></th>\n",
       "      <th>URL</th>\n",
       "      <th>Trends</th>\n",
       "      <th>Source</th>\n",
       "    </tr>\n",
       "  </thead>\n",
       "  <tbody>\n",
       "    <tr>\n",
       "      <th>0</th>\n",
       "      <td>https://www.refinery29.com/en-us/fashion-trend...</td>\n",
       "      <td>2023 Fashion Trend: Red. Glossy red hues took ...</td>\n",
       "      <td>7 Fashion Trends That Will Take Over 2023 — Sh...</td>\n",
       "    </tr>\n",
       "    <tr>\n",
       "      <th>1</th>\n",
       "      <td>https://www.refinery29.com/en-us/fashion-trend...</td>\n",
       "      <td>2023 Fashion Trend: Cargo Pants. Utilitarian w...</td>\n",
       "      <td>7 Fashion Trends That Will Take Over 2023 — Sh...</td>\n",
       "    </tr>\n",
       "    <tr>\n",
       "      <th>2</th>\n",
       "      <td>https://www.refinery29.com/en-us/fashion-trend...</td>\n",
       "      <td>2023 Fashion Trend: Sheer Clothing. \"Bare it a...</td>\n",
       "      <td>7 Fashion Trends That Will Take Over 2023 — Sh...</td>\n",
       "    </tr>\n",
       "    <tr>\n",
       "      <th>3</th>\n",
       "      <td>https://www.refinery29.com/en-us/fashion-trend...</td>\n",
       "      <td>2023 Fashion Trend: Denim Reimagined. From dou...</td>\n",
       "      <td>7 Fashion Trends That Will Take Over 2023 — Sh...</td>\n",
       "    </tr>\n",
       "    <tr>\n",
       "      <th>4</th>\n",
       "      <td>https://www.refinery29.com/en-us/fashion-trend...</td>\n",
       "      <td>2023 Fashion Trend: Shine For The Daytime. The...</td>\n",
       "      <td>7 Fashion Trends That Will Take Over 2023 — Sh...</td>\n",
       "    </tr>\n",
       "  </tbody>\n",
       "</table>\n",
       "</div>"
      ],
      "text/plain": [
       "                                                 URL  \\\n",
       "0  https://www.refinery29.com/en-us/fashion-trend...   \n",
       "1  https://www.refinery29.com/en-us/fashion-trend...   \n",
       "2  https://www.refinery29.com/en-us/fashion-trend...   \n",
       "3  https://www.refinery29.com/en-us/fashion-trend...   \n",
       "4  https://www.refinery29.com/en-us/fashion-trend...   \n",
       "\n",
       "                                              Trends  \\\n",
       "0  2023 Fashion Trend: Red. Glossy red hues took ...   \n",
       "1  2023 Fashion Trend: Cargo Pants. Utilitarian w...   \n",
       "2  2023 Fashion Trend: Sheer Clothing. \"Bare it a...   \n",
       "3  2023 Fashion Trend: Denim Reimagined. From dou...   \n",
       "4  2023 Fashion Trend: Shine For The Daytime. The...   \n",
       "\n",
       "                                              Source  \n",
       "0  7 Fashion Trends That Will Take Over 2023 — Sh...  \n",
       "1  7 Fashion Trends That Will Take Over 2023 — Sh...  \n",
       "2  7 Fashion Trends That Will Take Over 2023 — Sh...  \n",
       "3  7 Fashion Trends That Will Take Over 2023 — Sh...  \n",
       "4  7 Fashion Trends That Will Take Over 2023 — Sh...  "
      ]
     },
     "execution_count": 9,
     "metadata": {},
     "output_type": "execute_result"
    }
   ],
   "source": [
    "data_df.head()"
   ]
  },
  {
   "cell_type": "code",
   "execution_count": 12,
   "id": "8713b2a0",
   "metadata": {},
   "outputs": [],
   "source": [
    "data_df[\"text\"] = None\n",
    "for i,row in data_df.iterrows():\n",
    "    data_df.iloc[i][\"text\"] = data_df.iloc[i][\"Trends\"] + \" Source: \" + data_df.iloc[i][\"Source\"]"
   ]
  },
  {
   "cell_type": "code",
   "execution_count": 13,
   "id": "03bace6a",
   "metadata": {},
   "outputs": [
    {
     "data": {
      "text/html": [
       "<div>\n",
       "<style scoped>\n",
       "    .dataframe tbody tr th:only-of-type {\n",
       "        vertical-align: middle;\n",
       "    }\n",
       "\n",
       "    .dataframe tbody tr th {\n",
       "        vertical-align: top;\n",
       "    }\n",
       "\n",
       "    .dataframe thead th {\n",
       "        text-align: right;\n",
       "    }\n",
       "</style>\n",
       "<table border=\"1\" class=\"dataframe\">\n",
       "  <thead>\n",
       "    <tr style=\"text-align: right;\">\n",
       "      <th></th>\n",
       "      <th>URL</th>\n",
       "      <th>Trends</th>\n",
       "      <th>Source</th>\n",
       "      <th>text</th>\n",
       "    </tr>\n",
       "  </thead>\n",
       "  <tbody>\n",
       "    <tr>\n",
       "      <th>0</th>\n",
       "      <td>https://www.refinery29.com/en-us/fashion-trend...</td>\n",
       "      <td>2023 Fashion Trend: Red. Glossy red hues took ...</td>\n",
       "      <td>7 Fashion Trends That Will Take Over 2023 — Sh...</td>\n",
       "      <td>2023 Fashion Trend: Red. Glossy red hues took ...</td>\n",
       "    </tr>\n",
       "    <tr>\n",
       "      <th>1</th>\n",
       "      <td>https://www.refinery29.com/en-us/fashion-trend...</td>\n",
       "      <td>2023 Fashion Trend: Cargo Pants. Utilitarian w...</td>\n",
       "      <td>7 Fashion Trends That Will Take Over 2023 — Sh...</td>\n",
       "      <td>2023 Fashion Trend: Cargo Pants. Utilitarian w...</td>\n",
       "    </tr>\n",
       "    <tr>\n",
       "      <th>2</th>\n",
       "      <td>https://www.refinery29.com/en-us/fashion-trend...</td>\n",
       "      <td>2023 Fashion Trend: Sheer Clothing. \"Bare it a...</td>\n",
       "      <td>7 Fashion Trends That Will Take Over 2023 — Sh...</td>\n",
       "      <td>2023 Fashion Trend: Sheer Clothing. \"Bare it a...</td>\n",
       "    </tr>\n",
       "    <tr>\n",
       "      <th>3</th>\n",
       "      <td>https://www.refinery29.com/en-us/fashion-trend...</td>\n",
       "      <td>2023 Fashion Trend: Denim Reimagined. From dou...</td>\n",
       "      <td>7 Fashion Trends That Will Take Over 2023 — Sh...</td>\n",
       "      <td>2023 Fashion Trend: Denim Reimagined. From dou...</td>\n",
       "    </tr>\n",
       "    <tr>\n",
       "      <th>4</th>\n",
       "      <td>https://www.refinery29.com/en-us/fashion-trend...</td>\n",
       "      <td>2023 Fashion Trend: Shine For The Daytime. The...</td>\n",
       "      <td>7 Fashion Trends That Will Take Over 2023 — Sh...</td>\n",
       "      <td>2023 Fashion Trend: Shine For The Daytime. The...</td>\n",
       "    </tr>\n",
       "  </tbody>\n",
       "</table>\n",
       "</div>"
      ],
      "text/plain": [
       "                                                 URL  \\\n",
       "0  https://www.refinery29.com/en-us/fashion-trend...   \n",
       "1  https://www.refinery29.com/en-us/fashion-trend...   \n",
       "2  https://www.refinery29.com/en-us/fashion-trend...   \n",
       "3  https://www.refinery29.com/en-us/fashion-trend...   \n",
       "4  https://www.refinery29.com/en-us/fashion-trend...   \n",
       "\n",
       "                                              Trends  \\\n",
       "0  2023 Fashion Trend: Red. Glossy red hues took ...   \n",
       "1  2023 Fashion Trend: Cargo Pants. Utilitarian w...   \n",
       "2  2023 Fashion Trend: Sheer Clothing. \"Bare it a...   \n",
       "3  2023 Fashion Trend: Denim Reimagined. From dou...   \n",
       "4  2023 Fashion Trend: Shine For The Daytime. The...   \n",
       "\n",
       "                                              Source  \\\n",
       "0  7 Fashion Trends That Will Take Over 2023 — Sh...   \n",
       "1  7 Fashion Trends That Will Take Over 2023 — Sh...   \n",
       "2  7 Fashion Trends That Will Take Over 2023 — Sh...   \n",
       "3  7 Fashion Trends That Will Take Over 2023 — Sh...   \n",
       "4  7 Fashion Trends That Will Take Over 2023 — Sh...   \n",
       "\n",
       "                                                text  \n",
       "0  2023 Fashion Trend: Red. Glossy red hues took ...  \n",
       "1  2023 Fashion Trend: Cargo Pants. Utilitarian w...  \n",
       "2  2023 Fashion Trend: Sheer Clothing. \"Bare it a...  \n",
       "3  2023 Fashion Trend: Denim Reimagined. From dou...  \n",
       "4  2023 Fashion Trend: Shine For The Daytime. The...  "
      ]
     },
     "execution_count": 13,
     "metadata": {},
     "output_type": "execute_result"
    }
   ],
   "source": [
    "data_df.head()"
   ]
  },
  {
   "cell_type": "markdown",
   "id": "ae769871",
   "metadata": {},
   "source": [
    "## Custom Query Completion\n",
    "\n",
    "TODO: In the cells below, compose a custom query using your chosen dataset and retrieve results from an OpenAI `Completion` model. You may copy and paste any useful code from the course materials."
   ]
  },
  {
   "cell_type": "code",
   "execution_count": 14,
   "id": "582f0656",
   "metadata": {},
   "outputs": [],
   "source": [
    "import openai"
   ]
  },
  {
   "cell_type": "code",
   "execution_count": 57,
   "id": "8b6e1f75",
   "metadata": {},
   "outputs": [],
   "source": [
    "openai.api_key=\"YOUR_API_KEY\""
   ]
  },
  {
   "cell_type": "code",
   "execution_count": 16,
   "id": "13f2dcd7",
   "metadata": {},
   "outputs": [],
   "source": [
    "EMBEDDING_MODEL_NAME = \"text-embedding-ada-002\"\n",
    "batch_size = 20\n",
    "embeddings = []\n",
    "for i in range(0, len(data_df), batch_size):\n",
    "    # Send text data to OpenAI model to get embeddings\n",
    "    response = openai.Embedding.create(\n",
    "        input=data_df.iloc[i:i+batch_size][\"text\"].tolist(),\n",
    "        engine=EMBEDDING_MODEL_NAME\n",
    "    )\n",
    "\n",
    "    # Add embeddings to list\n",
    "    embeddings.extend([data[\"embedding\"] for data in response[\"data\"]])\n",
    "\n",
    "# Add embeddings list to dataframe\n",
    "data_df[\"embeddings\"] = embeddings"
   ]
  },
  {
   "cell_type": "code",
   "execution_count": 17,
   "id": "938505b0",
   "metadata": {},
   "outputs": [
    {
     "data": {
      "text/plain": [
       "1536"
      ]
     },
     "execution_count": 17,
     "metadata": {},
     "output_type": "execute_result"
    }
   ],
   "source": [
    "len(data_df.iloc[0][\"embeddings\"])"
   ]
  },
  {
   "cell_type": "code",
   "execution_count": 18,
   "id": "c403f543",
   "metadata": {},
   "outputs": [
    {
     "data": {
      "text/html": [
       "<div>\n",
       "<style scoped>\n",
       "    .dataframe tbody tr th:only-of-type {\n",
       "        vertical-align: middle;\n",
       "    }\n",
       "\n",
       "    .dataframe tbody tr th {\n",
       "        vertical-align: top;\n",
       "    }\n",
       "\n",
       "    .dataframe thead th {\n",
       "        text-align: right;\n",
       "    }\n",
       "</style>\n",
       "<table border=\"1\" class=\"dataframe\">\n",
       "  <thead>\n",
       "    <tr style=\"text-align: right;\">\n",
       "      <th></th>\n",
       "      <th>URL</th>\n",
       "      <th>Trends</th>\n",
       "      <th>Source</th>\n",
       "      <th>text</th>\n",
       "      <th>embeddings</th>\n",
       "    </tr>\n",
       "  </thead>\n",
       "  <tbody>\n",
       "    <tr>\n",
       "      <th>0</th>\n",
       "      <td>https://www.refinery29.com/en-us/fashion-trend...</td>\n",
       "      <td>2023 Fashion Trend: Red. Glossy red hues took ...</td>\n",
       "      <td>7 Fashion Trends That Will Take Over 2023 — Sh...</td>\n",
       "      <td>2023 Fashion Trend: Red. Glossy red hues took ...</td>\n",
       "      <td>[-0.015253156423568726, -0.019887520000338554,...</td>\n",
       "    </tr>\n",
       "    <tr>\n",
       "      <th>1</th>\n",
       "      <td>https://www.refinery29.com/en-us/fashion-trend...</td>\n",
       "      <td>2023 Fashion Trend: Cargo Pants. Utilitarian w...</td>\n",
       "      <td>7 Fashion Trends That Will Take Over 2023 — Sh...</td>\n",
       "      <td>2023 Fashion Trend: Cargo Pants. Utilitarian w...</td>\n",
       "      <td>[-0.0005249278619885445, -0.028829893097281456...</td>\n",
       "    </tr>\n",
       "    <tr>\n",
       "      <th>2</th>\n",
       "      <td>https://www.refinery29.com/en-us/fashion-trend...</td>\n",
       "      <td>2023 Fashion Trend: Sheer Clothing. \"Bare it a...</td>\n",
       "      <td>7 Fashion Trends That Will Take Over 2023 — Sh...</td>\n",
       "      <td>2023 Fashion Trend: Sheer Clothing. \"Bare it a...</td>\n",
       "      <td>[-0.008778235875070095, -0.020026393234729767,...</td>\n",
       "    </tr>\n",
       "    <tr>\n",
       "      <th>3</th>\n",
       "      <td>https://www.refinery29.com/en-us/fashion-trend...</td>\n",
       "      <td>2023 Fashion Trend: Denim Reimagined. From dou...</td>\n",
       "      <td>7 Fashion Trends That Will Take Over 2023 — Sh...</td>\n",
       "      <td>2023 Fashion Trend: Denim Reimagined. From dou...</td>\n",
       "      <td>[-0.00955200009047985, -0.0073344530537724495,...</td>\n",
       "    </tr>\n",
       "    <tr>\n",
       "      <th>4</th>\n",
       "      <td>https://www.refinery29.com/en-us/fashion-trend...</td>\n",
       "      <td>2023 Fashion Trend: Shine For The Daytime. The...</td>\n",
       "      <td>7 Fashion Trends That Will Take Over 2023 — Sh...</td>\n",
       "      <td>2023 Fashion Trend: Shine For The Daytime. The...</td>\n",
       "      <td>[-0.0025164983235299587, 0.002365042455494404,...</td>\n",
       "    </tr>\n",
       "  </tbody>\n",
       "</table>\n",
       "</div>"
      ],
      "text/plain": [
       "                                                 URL  \\\n",
       "0  https://www.refinery29.com/en-us/fashion-trend...   \n",
       "1  https://www.refinery29.com/en-us/fashion-trend...   \n",
       "2  https://www.refinery29.com/en-us/fashion-trend...   \n",
       "3  https://www.refinery29.com/en-us/fashion-trend...   \n",
       "4  https://www.refinery29.com/en-us/fashion-trend...   \n",
       "\n",
       "                                              Trends  \\\n",
       "0  2023 Fashion Trend: Red. Glossy red hues took ...   \n",
       "1  2023 Fashion Trend: Cargo Pants. Utilitarian w...   \n",
       "2  2023 Fashion Trend: Sheer Clothing. \"Bare it a...   \n",
       "3  2023 Fashion Trend: Denim Reimagined. From dou...   \n",
       "4  2023 Fashion Trend: Shine For The Daytime. The...   \n",
       "\n",
       "                                              Source  \\\n",
       "0  7 Fashion Trends That Will Take Over 2023 — Sh...   \n",
       "1  7 Fashion Trends That Will Take Over 2023 — Sh...   \n",
       "2  7 Fashion Trends That Will Take Over 2023 — Sh...   \n",
       "3  7 Fashion Trends That Will Take Over 2023 — Sh...   \n",
       "4  7 Fashion Trends That Will Take Over 2023 — Sh...   \n",
       "\n",
       "                                                text  \\\n",
       "0  2023 Fashion Trend: Red. Glossy red hues took ...   \n",
       "1  2023 Fashion Trend: Cargo Pants. Utilitarian w...   \n",
       "2  2023 Fashion Trend: Sheer Clothing. \"Bare it a...   \n",
       "3  2023 Fashion Trend: Denim Reimagined. From dou...   \n",
       "4  2023 Fashion Trend: Shine For The Daytime. The...   \n",
       "\n",
       "                                          embeddings  \n",
       "0  [-0.015253156423568726, -0.019887520000338554,...  \n",
       "1  [-0.0005249278619885445, -0.028829893097281456...  \n",
       "2  [-0.008778235875070095, -0.020026393234729767,...  \n",
       "3  [-0.00955200009047985, -0.0073344530537724495,...  \n",
       "4  [-0.0025164983235299587, 0.002365042455494404,...  "
      ]
     },
     "execution_count": 18,
     "metadata": {},
     "output_type": "execute_result"
    }
   ],
   "source": [
    "data_df.head()"
   ]
  },
  {
   "cell_type": "markdown",
   "id": "1783f146",
   "metadata": {},
   "source": [
    "## Custom Performance Demonstration\n",
    "\n",
    "TODO: In the cells below, demonstrate the performance of your custom query using at least 2 questions. For each question, show the answer from a basic `Completion` model query as well as the answer from your custom query."
   ]
  },
  {
   "cell_type": "markdown",
   "id": "4f11fdc0",
   "metadata": {},
   "source": [
    "### Question 1"
   ]
  },
  {
   "cell_type": "code",
   "execution_count": 19,
   "id": "4901c850",
   "metadata": {},
   "outputs": [],
   "source": [
    "from openai.embeddings_utils import get_embedding\n",
    "from openai.embeddings_utils import distances_from_embeddings\n",
    "EMBEDDING_MODEL_NAME = \"text-embedding-ada-002\""
   ]
  },
  {
   "cell_type": "code",
   "execution_count": 33,
   "id": "1581251f",
   "metadata": {},
   "outputs": [],
   "source": [
    "import tiktoken\n",
    "\n",
    "def create_prompt(question, df, max_token_count):\n",
    "    \"\"\"\n",
    "    Given a question and a dataframe containing rows of text and their\n",
    "    embeddings, return a text prompt to send to a Completion model\n",
    "    \"\"\"\n",
    "    # Create a tokenizer that is designed to align with our embeddings\n",
    "    tokenizer = tiktoken.get_encoding(\"cl100k_base\")\n",
    "\n",
    "    # Count the number of tokens in the prompt template and question\n",
    "    prompt_template = \"\"\"\n",
    "                        Answer the question based on the context below, and if the question\n",
    "                        can't be answered based on the context, say \"I don't know\"\n",
    "\n",
    "                        Context: \n",
    "\n",
    "                        {}\n",
    "\n",
    "                        ---\n",
    "\n",
    "                        Question: {}\n",
    "                        Answer:\n",
    "                        \n",
    "                       \"\"\"\n",
    "\n",
    "    current_token_count = len(tokenizer.encode(prompt_template)) + \\\n",
    "                            len(tokenizer.encode(question))\n",
    "\n",
    "    context = []\n",
    "    for text in get_rows_sorted_by_relevance(question, df)[\"text\"].values:\n",
    "\n",
    "        # Increase the counter based on the number of tokens in this row\n",
    "        text_token_count = len(tokenizer.encode(text))\n",
    "        current_token_count += text_token_count\n",
    "\n",
    "        # Add the row of text to the list if we haven't exceeded the max\n",
    "        if current_token_count <= max_token_count:\n",
    "            context.append(text)\n",
    "        else:\n",
    "            break\n",
    "\n",
    "    return prompt_template.format(\"\\n\\n###\\n\\n\".join(context), question)"
   ]
  },
  {
   "cell_type": "code",
   "execution_count": 21,
   "id": "bb15d66b",
   "metadata": {},
   "outputs": [],
   "source": [
    "def get_rows_sorted_by_relevance(question, df):\n",
    "    \"\"\"\n",
    "    Function that takes in a question string and a dataframe containing\n",
    "    rows of text and associated embeddings, and returns that dataframe\n",
    "    sorted from least to most relevant for that question\n",
    "    \"\"\"\n",
    "\n",
    "    # Get embeddings for the question text\n",
    "    question_embeddings = get_embedding(question, engine=EMBEDDING_MODEL_NAME)\n",
    "\n",
    "    # Make a copy of the dataframe and add a \"distances\" column containing\n",
    "    # the cosine distances between each row's embeddings and the\n",
    "    # embeddings of the question\n",
    "    df_copy = df.copy()\n",
    "    df_copy[\"distances\"] = distances_from_embeddings(\n",
    "        question_embeddings,\n",
    "        df_copy[\"embeddings\"].values,\n",
    "        distance_metric=\"cosine\"\n",
    "    )\n",
    "\n",
    "    # Sort the copied dataframe by the distances and return it\n",
    "    # (shorter distance = more relevant so we sort in ascending order)\n",
    "    df_copy.sort_values(\"distances\", ascending=True, inplace=True)\n",
    "    return df_copy"
   ]
  },
  {
   "cell_type": "code",
   "execution_count": 34,
   "id": "965ed164",
   "metadata": {},
   "outputs": [],
   "source": [
    "question1 = \"What are the fashion trends for woman for 2023 spring?\""
   ]
  },
  {
   "cell_type": "code",
   "execution_count": 40,
   "id": "facb0d70",
   "metadata": {},
   "outputs": [],
   "source": [
    "context_q1_df = get_rows_sorted_by_relevance(question1,data_df)"
   ]
  },
  {
   "cell_type": "code",
   "execution_count": 42,
   "id": "a1c2cf02",
   "metadata": {},
   "outputs": [],
   "source": [
    "max_token_count = 1000\n",
    "prompt_q1 = create_prompt(question1, context_q1_df, max_token_count)"
   ]
  },
  {
   "cell_type": "code",
   "execution_count": 43,
   "id": "41baceda",
   "metadata": {},
   "outputs": [
    {
     "name": "stdout",
     "output_type": "stream",
     "text": [
      "The fashion trends for women in spring 2023 include wearable surrealist designs with floral motifs, sheer clothing, white cotton tops, updated versions of classic button-up shirts and tailored looks with crisp white shirting.\n"
     ]
    }
   ],
   "source": [
    "q1_answer = openai.Completion.create(model=\"gpt-3.5-turbo-instruct\",prompt=prompt_q1,max_tokens=150)[\"choices\"][0][\"text\"].strip()\n",
    "print(q1_answer)"
   ]
  },
  {
   "cell_type": "markdown",
   "id": "6e86e37c",
   "metadata": {},
   "source": [
    "### Question 2"
   ]
  },
  {
   "cell_type": "code",
   "execution_count": 55,
   "id": "6f646989",
   "metadata": {},
   "outputs": [],
   "source": [
    "question2 = \"Which type of dresses were trend with red color?\"\n",
    "context_q2_df = get_rows_sorted_by_relevance(question2,data_df)\n",
    "max_token_count = 1000\n",
    "prompt_q2 = create_prompt(question2, context_q2_df, max_token_count)"
   ]
  },
  {
   "cell_type": "code",
   "execution_count": 56,
   "id": "11c07a54",
   "metadata": {},
   "outputs": [
    {
     "name": "stdout",
     "output_type": "stream",
     "text": [
      "Bold red dresses, tube dresses, draped dresses, and maxi dresses were all trending in red for Spring/Summer 2023.\n"
     ]
    }
   ],
   "source": [
    "q2_answer = openai.Completion.create(model=\"gpt-3.5-turbo-instruct\",prompt=prompt_q2,max_tokens=150)[\"choices\"][0][\"text\"].strip()\n",
    "print(q2_answer)"
   ]
  },
  {
   "cell_type": "code",
   "execution_count": null,
   "id": "27eee5e4",
   "metadata": {},
   "outputs": [],
   "source": []
  }
 ],
 "metadata": {
  "kernelspec": {
   "display_name": "Python 3 (ipykernel)",
   "language": "python",
   "name": "python3"
  },
  "language_info": {
   "codemirror_mode": {
    "name": "ipython",
    "version": 3
   },
   "file_extension": ".py",
   "mimetype": "text/x-python",
   "name": "python",
   "nbconvert_exporter": "python",
   "pygments_lexer": "ipython3",
   "version": "3.9.18"
  }
 },
 "nbformat": 4,
 "nbformat_minor": 5
}
